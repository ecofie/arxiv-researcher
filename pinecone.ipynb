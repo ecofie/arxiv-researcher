{
 "cells": [
  {
   "cell_type": "code",
   "execution_count": 12,
   "metadata": {},
   "outputs": [],
   "source": [
    "from constant import embed_model\n",
    "from index_manager_pinecone import IndexManagerPinecone"
   ]
  },
  {
   "cell_type": "code",
   "execution_count": 13,
   "metadata": {},
   "outputs": [],
   "source": [
    "#create an instance of the class\n",
    "index_manager = IndexManagerPinecone(embed_model,index_name = \"arxiv-research\")"
   ]
  },
  {
   "cell_type": "code",
   "execution_count": 14,
   "metadata": {},
   "outputs": [],
   "source": [
    "#fetch the papers\n",
    "index_manager.fetch_papers(\"Language Models\",10)"
   ]
  },
  {
   "cell_type": "code",
   "execution_count": 4,
   "metadata": {},
   "outputs": [
    {
     "name": "stderr",
     "output_type": "stream",
     "text": [
      "Upserted vectors: 100%|██████████| 10/10 [00:04<00:00,  2.12it/s]\n"
     ]
    }
   ],
   "source": [
    "#create the index\n",
    "index_manager.create_index()"
   ]
  },
  {
   "cell_type": "code",
   "execution_count": 15,
   "metadata": {},
   "outputs": [],
   "source": [
    "#retreive the index\n",
    "index = index_manager.retreive_index()"
   ]
  },
  {
   "cell_type": "code",
   "execution_count": 16,
   "metadata": {},
   "outputs": [
    {
     "name": "stdout",
     "output_type": "stream",
     "text": [
      "['CRPO: Confidence-Reward Driven Preference Optimization for Machine Translation', 'The Breeze 2 Herd of Models: Traditional Chinese LLMs Based on Llama with Vision-Aware and Function-Calling Capabilities', 'Analysis of Indic Language Capabilities in LLMs', 'Privacy-Preserving Personalized Federated Prompt Learning for Multimodal Large Language Models', 'Exploring Finetuned Audio-LLM on Heart Murmur Features', 'The machine learning platform for developers of large systems', 'A RAG-Based Institutional Assistant', 'Dual-Modal Prototype Joint Learning for Compositional Zero-Shot Learning', 'Large Vision-Language Models for Knowledge-Grounded Data Annotation of Memes', 'Think Outside the Data: Colonial Biases and Systemic Issues in Automated Moderation Pipelines for Low-Resource Languages']\n"
     ]
    }
   ],
   "source": [
    "#list the papers\n",
    "index_manager.list_papers()"
   ]
  },
  {
   "cell_type": "code",
   "execution_count": null,
   "metadata": {},
   "outputs": [],
   "source": []
  }
 ],
 "metadata": {
  "kernelspec": {
   "display_name": ".venv",
   "language": "python",
   "name": "python3"
  },
  "language_info": {
   "codemirror_mode": {
    "name": "ipython",
    "version": 3
   },
   "file_extension": ".py",
   "mimetype": "text/x-python",
   "name": "python",
   "nbconvert_exporter": "python",
   "pygments_lexer": "ipython3",
   "version": "3.12.7"
  }
 },
 "nbformat": 4,
 "nbformat_minor": 2
}
